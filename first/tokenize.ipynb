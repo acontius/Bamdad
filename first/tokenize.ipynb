{
 "cells": [
  {
   "cell_type": "markdown",
   "metadata": {},
   "source": [
    "**TOKENIZATION** \n",
    "\n",
    "First step of our journey is to TOKENIZE our Emails."
   ]
  },
  {
   "cell_type": "code",
   "execution_count": 5,
   "metadata": {},
   "outputs": [],
   "source": [
    "import csv\n",
    "import re"
   ]
  },
  {
   "cell_type": "markdown",
   "metadata": {},
   "source": [
    "Deleting the bad format inputs and return every words in the document."
   ]
  },
  {
   "cell_type": "code",
   "execution_count": 6,
   "metadata": {},
   "outputs": [],
   "source": [
    "def tokenize_email(text):\n",
    "    words = re.findall(r'[a-zA-Z0-9]+', text)\n",
    "    return [word.lower() for word in words]\n"
   ]
  },
  {
   "cell_type": "markdown",
   "metadata": {},
   "source": [
    "Proccessing the .CSV input file."
   ]
  },
  {
   "cell_type": "code",
   "execution_count": 7,
   "metadata": {},
   "outputs": [
    {
     "name": "stdout",
     "output_type": "stream",
     "text": [
      "All done and saved in  ./data/emails_tokenized.csv\n"
     ]
    }
   ],
   "source": [
    "input_path = './data/emails.csv'\n",
    "output_path = './data/emails_tokenized.csv'\n",
    "\n",
    "with open(input_path, 'r', encoding='utf-8') as infile, \\\n",
    "     open(output_path, 'w', encoding='utf-8', newline='') as outfile:\n",
    "\n",
    "    reader = csv.reader(infile)\n",
    "    writer = csv.writer(outfile)\n",
    "    \n",
    "    writer.writerow(['tokens', 'spam'])\n",
    "    \n",
    "    next(reader, None)\n",
    "    \n",
    "    for row in reader:\n",
    "        if len(row) < 2:\n",
    "            continue\n",
    "            \n",
    "        text, label = row[0], row[1]\n",
    "        tokens = tokenize_email(text)\n",
    "        \n",
    "        writer.writerow([tokens, label])\n",
    "\n",
    "print(\"All done and saved in \",output_path)"
   ]
  },
  {
   "cell_type": "markdown",
   "metadata": {},
   "source": [
    "**VECTORIZATION**\n",
    "\n"
   ]
  },
  {
   "cell_type": "code",
   "execution_count": 10,
   "metadata": {},
   "outputs": [],
   "source": [
    "import pandas as pd\n",
    "import numpy as np\n",
    "from sklearn.feature_extraction.text import CountVectorizer\n",
    "from scipy.sparse import save_npz"
   ]
  },
  {
   "cell_type": "markdown",
   "metadata": {},
   "source": [
    "Reading the tokenized data and transforming it to **LIST**"
   ]
  },
  {
   "cell_type": "code",
   "execution_count": 11,
   "metadata": {},
   "outputs": [],
   "source": [
    "\n",
    "tokenized_path = './data/emails_tokenized.csv'\n",
    "df = pd.read_csv(tokenized_path)\n",
    "\n",
    "df['tokens'] = df['tokens'].apply(eval)"
   ]
  },
  {
   "cell_type": "markdown",
   "metadata": {},
   "source": [
    "vectorizing features with 2 way "
   ]
  },
  {
   "cell_type": "markdown",
   "metadata": {},
   "source": [
    "**#1** Count Vectorization"
   ]
  },
  {
   "cell_type": "code",
   "execution_count": null,
   "metadata": {},
   "outputs": [],
   "source": [
    "count_vectorizer = CountVectorizer(\n",
    "    tokenizer=lambda x: x,  # استفاده از توکن‌های از پیش پردازش شده\n",
    "    preprocessor=lambda x: x,  # عدم پیش‌پردازش اضافی\n",
    "    binary=False,  # حالت شمارشی\n",
    "    min_df=2  # نادیده گرفتن کلماتی که کمتر از ۲ بار ظاهر شده‌اند\n",
    ")\n",
    "X_count = count_vectorizer.fit_transform(df['tokens'])"
   ]
  },
  {
   "cell_type": "markdown",
   "metadata": {},
   "source": [
    "**#2** Binarry Vectorization"
   ]
  },
  {
   "cell_type": "code",
   "execution_count": 13,
   "metadata": {},
   "outputs": [],
   "source": [
    "binary_vectorizer = CountVectorizer(\n",
    "    tokenizer=lambda x: x,\n",
    "    preprocessor=lambda x: x,\n",
    "    binary=True, \n",
    "    min_df=2\n",
    ")\n",
    "X_binary = binary_vectorizer.fit_transform(df['tokens'])"
   ]
  },
  {
   "cell_type": "markdown",
   "metadata": {},
   "source": [
    "Saving the **results** "
   ]
  },
  {
   "cell_type": "code",
   "execution_count": 14,
   "metadata": {},
   "outputs": [],
   "source": [
    "save_npz('./data/features_count.npz', X_count)\n",
    "save_npz('./data/features_binary.npz', X_binary)\n",
    "\n",
    "\n",
    "np.save('./data/labels.npy', df['spam'].values)\n",
    "\n",
    "\n",
    "vocabulary = count_vectorizer.get_feature_names_out()\n",
    "pd.Series(vocabulary).to_csv('./data/vocabulary.csv', index=False)"
   ]
  },
  {
   "cell_type": "code",
   "execution_count": 32,
   "metadata": {},
   "outputs": [
    {
     "name": "stdout",
     "output_type": "stream",
     "text": [
      "All features : 20303\n",
      "Count : (5728, 20303)\n",
      "Binarry : (5728, 20303)\n"
     ]
    }
   ],
   "source": [
    "print(f\"All features : {len(vocabulary)}\")\n",
    "print(f\"Count : {X_count.shape}\")\n",
    "print(f\"Binarry : {X_binary.shape}\")"
   ]
  },
  {
   "cell_type": "code",
   "execution_count": 30,
   "metadata": {},
   "outputs": [
    {
     "name": "stdout",
     "output_type": "stream",
     "text": [
      "Count Matrix Sample:\n",
      "[[0 0 0 0 0 0 0 0 0 0]\n",
      " [0 0 0 0 0 0 0 0 0 0]\n",
      " [0 0 0 0 0 0 0 0 0 0]\n",
      " [0 0 0 0 0 0 0 0 0 0]\n",
      " [0 0 0 0 0 0 0 0 0 0]]\n",
      "\n",
      "Binary Matrix Sample:\n",
      "[[0 0 0 0 0 0 0 0 0 0]\n",
      " [0 0 0 0 0 0 0 0 0 0]\n",
      " [0 0 0 0 0 0 0 0 0 0]\n",
      " [0 0 0 0 0 0 0 0 0 0]\n",
      " [0 0 0 0 0 0 0 0 0 0]]\n"
     ]
    }
   ],
   "source": [
    "from scipy.sparse import csr_matrix\n",
    "import numpy as np\n",
    "\n",
    "small_count = X_count[:5, :10].toarray()\n",
    "small_binary = X_binary[:5, :10].toarray()\n",
    "\n",
    "print(\"Count Matrix Sample:\")\n",
    "print(small_count)\n",
    "print(\"\\nBinary Matrix Sample:\")\n",
    "print(small_binary)"
   ]
  }
 ],
 "metadata": {
  "kernelspec": {
   "display_name": "Bamdad",
   "language": "python",
   "name": "python3"
  },
  "language_info": {
   "codemirror_mode": {
    "name": "ipython",
    "version": 3
   },
   "file_extension": ".py",
   "mimetype": "text/x-python",
   "name": "python",
   "nbconvert_exporter": "python",
   "pygments_lexer": "ipython3",
   "version": "3.13.3"
  }
 },
 "nbformat": 4,
 "nbformat_minor": 2
}
